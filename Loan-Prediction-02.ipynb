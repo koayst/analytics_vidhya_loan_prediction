{
 "cells": [
  {
   "cell_type": "code",
   "execution_count": 1,
   "metadata": {},
   "outputs": [],
   "source": [
    "# email: sengtian@yahoo.com\n",
    "#\n",
    "# dataset:\n",
    "#    1) dataset/load_prediction_train.csv\n",
    "#    2) https://datahack.analyticsvidhya.com/contest/practice-problem-loan-prediction-iii/?utm_source=auto-email\n",
    "#\n",
    "# Course at Analytics Vidhya:\n",
    "#    https://courses.analyticsvidhya.com/courses/take/loan-prediction-practice-problem-using-python/texts/6119745-model-building-part-ii\n",
    "#\n",
    "# This one use PyCaret to iterate to all available/supported models"
   ]
  },
  {
   "cell_type": "code",
   "execution_count": 2,
   "metadata": {},
   "outputs": [],
   "source": [
    "%config IPCompleter.greedy=True\n",
    "\n",
    "import pandas as pd\n",
    "import os\n",
    "\n",
    "# to display all the columns of the dataframe in the notebook\n",
    "pd.set_option('display.max_rows', None)\n",
    "pd.set_option('display.max_columns', None)\n",
    "pd.set_option('display.width', None)\n",
    "pd.set_option('display.max_colwidth', None)\n"
   ]
  },
  {
   "cell_type": "code",
   "execution_count": 3,
   "metadata": {},
   "outputs": [
    {
     "ename": "ModuleNotFoundError",
     "evalue": "No module named 'pycaret'",
     "output_type": "error",
     "traceback": [
      "---------------------------------------------------------------------------",
      "ModuleNotFoundError                       Traceback (most recent call last)",
      "<ipython-input-3-ead4ba409652> in <module>\n      1 # print version of PyCaret\n----> 2 from pycaret.utils import version\n      3 \n      4 version()\n",
      "ModuleNotFoundError: No module named 'pycaret'"
     ]
    }
   ],
   "source": [
    "# print version of PyCaret\n",
    "from pycaret.utils import version\n",
    "\n",
    "version()\n"
   ]
  },
  {
   "cell_type": "code",
   "execution_count": null,
   "metadata": {},
   "outputs": [],
   "source": [
    "# load the dataset\n",
    "dataset_dir = 'dataset'\n",
    "dataset_filename = 'loan_prediction_train.csv'\n",
    "\n",
    "dataset_fullname = os.path.join(os.getcwd(), dataset_dir)\n",
    "dataset_fullname = os.path.join(dataset_fullname, dataset_filename)\n",
    "\n",
    "print(dataset_fullname)\n",
    "\n",
    "# load the data and print the first few rows\n",
    "df = pd.read_csv(dataset_fullname)\n",
    "df.head(10)\n"
   ]
  },
  {
   "cell_type": "code",
   "execution_count": null,
   "metadata": {},
   "outputs": [],
   "source": [
    "print(df.shape)\n"
   ]
  },
  {
   "cell_type": "code",
   "execution_count": null,
   "metadata": {},
   "outputs": [],
   "source": [
    "# drop the Loan_ID since it will not be needed in training and prediction\n",
    "df = df.drop('Loan_ID', axis=1)\n",
    "\n",
    "print(df.shape)\n"
   ]
  },
  {
   "cell_type": "code",
   "execution_count": null,
   "metadata": {
    "scrolled": false
   },
   "outputs": [],
   "source": [
    "# import the module and initializing setup\n",
    "from pycaret.classification import *\n",
    "\n",
    "experiment = setup(\n",
    "    session_id=123,\n",
    "    data=df,  \n",
    "    feature_selection=True,\n",
    "    train_size=0.75, \n",
    "    categorical_imputation='constant',\n",
    "    categorical_features=['Gender', 'Married', 'Dependents', 'Education', 'Self_Employed', 'Credit_History', 'Property_Area'],\n",
    "    numeric_imputation='median',\n",
    "    numeric_features=['ApplicantIncome', 'CoapplicantIncome', 'LoanAmount', 'Loan_Amount_Term'],\n",
    "    target='Loan_Status',\n",
    "    silent=True\n",
    ")\n"
   ]
  },
  {
   "cell_type": "code",
   "execution_count": null,
   "metadata": {},
   "outputs": [],
   "source": [
    "compare_models(blacklist=[], turbo=False)"
   ]
  },
  {
   "cell_type": "code",
   "execution_count": null,
   "metadata": {},
   "outputs": [],
   "source": [
    "# from the above, Ridge and Linear Discriminant Analysis are of the same accuracy"
   ]
  },
  {
   "cell_type": "markdown",
   "metadata": {},
   "source": [
    "# Ridge Classifier"
   ]
  },
  {
   "cell_type": "code",
   "execution_count": null,
   "metadata": {},
   "outputs": [],
   "source": [
    "ridge = create_model('ridge')"
   ]
  },
  {
   "cell_type": "code",
   "execution_count": null,
   "metadata": {},
   "outputs": [],
   "source": [
    "tuned_ridge = tune_model('ridge')"
   ]
  },
  {
   "cell_type": "code",
   "execution_count": null,
   "metadata": {},
   "outputs": [],
   "source": [
    "predict_model(tuned_ridge)"
   ]
  },
  {
   "cell_type": "markdown",
   "metadata": {},
   "source": [
    "# Linear Discriminant Analysis"
   ]
  },
  {
   "cell_type": "code",
   "execution_count": null,
   "metadata": {},
   "outputs": [],
   "source": [
    "lda = create_model('lda')"
   ]
  },
  {
   "cell_type": "code",
   "execution_count": null,
   "metadata": {},
   "outputs": [],
   "source": [
    "tuned_lda = tune_model('lda')"
   ]
  },
  {
   "cell_type": "code",
   "execution_count": null,
   "metadata": {},
   "outputs": [],
   "source": [
    "predict_model(tuned_lda)"
   ]
  },
  {
   "cell_type": "code",
   "execution_count": null,
   "metadata": {},
   "outputs": [],
   "source": [
    "# Ridge Classifier has a higher score than Linear Discriminant Analysis"
   ]
  },
  {
   "cell_type": "markdown",
   "metadata": {},
   "source": [
    "# Predict on Unseen Data"
   ]
  },
  {
   "cell_type": "code",
   "execution_count": null,
   "metadata": {},
   "outputs": [],
   "source": [
    "# load the dataset\n",
    "dataset_dir = 'dataset'\n",
    "dataset_filename = 'loan_prediction_test.csv'\n",
    "\n",
    "dataset_fullname = os.path.join(os.getcwd(), dataset_dir)\n",
    "dataset_fullname = os.path.join(dataset_fullname, dataset_filename)\n",
    "\n",
    "print(dataset_fullname)\n",
    "\n",
    "# load the data and print the first few rows\n",
    "t_df = pd.read_csv(dataset_fullname)\n",
    "t_df.head(10)\n"
   ]
  },
  {
   "cell_type": "code",
   "execution_count": null,
   "metadata": {},
   "outputs": [],
   "source": [
    "unseen_predictions = predict_model(tuned_ridge, data=t_df)\n",
    "unseen_predictions.head(10)"
   ]
  },
  {
   "cell_type": "code",
   "execution_count": null,
   "metadata": {},
   "outputs": [],
   "source": [
    "unseen_predictions = unseen_predictions.rename(columns={'Label': 'Loan_Status'})\n",
    "unseen_predictions.head(10)"
   ]
  },
  {
   "cell_type": "code",
   "execution_count": null,
   "metadata": {},
   "outputs": [],
   "source": [
    "unseen_predictions['Loan_Status'] = unseen_predictions['Loan_Status'].map({1: 'Y', 0: 'N'})\n",
    "unseen_predictions.head(10)"
   ]
  },
  {
   "cell_type": "code",
   "execution_count": null,
   "metadata": {},
   "outputs": [],
   "source": [
    "save_unseen_predictions = unseen_predictions.filter(['Loan_ID', 'Loan_Status'])\n",
    "save_unseen_predictions.head(10)"
   ]
  },
  {
   "cell_type": "code",
   "execution_count": null,
   "metadata": {},
   "outputs": [],
   "source": [
    "t_dataset_dir = 'dataset'\n",
    "t_dataset_filename = 'loan_prediction_submission_pycaret.csv'\n",
    "\n",
    "t_dataset_fullname = os.path.join(os.getcwd(), dataset_dir)\n",
    "t_dataset_fullname = os.path.join(t_dataset_fullname, t_dataset_filename)\n",
    "save_unseen_predictions.to_csv(t_dataset_fullname, index=False)\n",
    "\n",
    "print('Prediction result is written to:\\n{}'.format(t_dataset_fullname))"
   ]
  },
  {
   "cell_type": "code",
   "execution_count": null,
   "metadata": {},
   "outputs": [],
   "source": [
    "# Achieved a score of 0.7778"
   ]
  },
  {
   "attachments": {},
   "cell_type": "markdown",
   "metadata": {},
   "source": [
    "<div style=\"width: 512px; height: 224px;\">\n",
    "    <img src=\"02.png\" width=\"70%\" height=\"70%\" align=\"left\">\n",
    "</div>"
   ]
  },
  {
   "cell_type": "code",
   "execution_count": null,
   "metadata": {},
   "outputs": [],
   "source": []
  }
 ],
 "metadata": {
  "kernelspec": {
   "display_name": "Python 3",
   "language": "python",
   "name": "python3"
  },
  "language_info": {
   "codemirror_mode": {
    "name": "ipython",
    "version": 3
   },
   "file_extension": ".py",
   "mimetype": "text/x-python",
   "name": "python",
   "nbconvert_exporter": "python",
   "pygments_lexer": "ipython3",
   "version": "3.7.6"
  }
 },
 "nbformat": 4,
 "nbformat_minor": 4
}
